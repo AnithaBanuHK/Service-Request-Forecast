{
 "cells": [
  {
   "cell_type": "markdown",
   "id": "872a5e69",
   "metadata": {},
   "source": [
    "# Future Trend forecast using Time Series Model"
   ]
  },
  {
   "cell_type": "code",
   "execution_count": 1,
   "id": "3bb2052c",
   "metadata": {},
   "outputs": [],
   "source": [
    "import numpy as np\n",
    "import pandas as pd\n",
    "import matplotlib.pyplot as plt\n",
    "import statsmodels.api as sm\n",
    "%matplotlib inline"
   ]
  },
  {
   "cell_type": "code",
   "execution_count": 31,
   "id": "c4ae2df9",
   "metadata": {},
   "outputs": [],
   "source": [
    "df=pd.read_excel('C:/Users/ADMIN/Desktop/Data Science/Case Study/AWR Case study/Daily Service Requests.xlsx')"
   ]
  },
  {
   "cell_type": "code",
   "execution_count": 3,
   "id": "ea7b8dcf",
   "metadata": {},
   "outputs": [
    {
     "data": {
      "text/html": [
       "<div>\n",
       "<style scoped>\n",
       "    .dataframe tbody tr th:only-of-type {\n",
       "        vertical-align: middle;\n",
       "    }\n",
       "\n",
       "    .dataframe tbody tr th {\n",
       "        vertical-align: top;\n",
       "    }\n",
       "\n",
       "    .dataframe thead th {\n",
       "        text-align: right;\n",
       "    }\n",
       "</style>\n",
       "<table border=\"1\" class=\"dataframe\">\n",
       "  <thead>\n",
       "    <tr style=\"text-align: right;\">\n",
       "      <th></th>\n",
       "      <th>Date</th>\n",
       "      <th># of Service Requests</th>\n",
       "    </tr>\n",
       "  </thead>\n",
       "  <tbody>\n",
       "    <tr>\n",
       "      <th>0</th>\n",
       "      <td>2018-09-01</td>\n",
       "      <td>1054</td>\n",
       "    </tr>\n",
       "    <tr>\n",
       "      <th>1</th>\n",
       "      <td>2018-09-02</td>\n",
       "      <td>1057</td>\n",
       "    </tr>\n",
       "    <tr>\n",
       "      <th>2</th>\n",
       "      <td>2018-09-03</td>\n",
       "      <td>1111</td>\n",
       "    </tr>\n",
       "    <tr>\n",
       "      <th>3</th>\n",
       "      <td>2018-09-04</td>\n",
       "      <td>951</td>\n",
       "    </tr>\n",
       "    <tr>\n",
       "      <th>4</th>\n",
       "      <td>2018-09-05</td>\n",
       "      <td>228</td>\n",
       "    </tr>\n",
       "  </tbody>\n",
       "</table>\n",
       "</div>"
      ],
      "text/plain": [
       "        Date  # of Service Requests\n",
       "0 2018-09-01                   1054\n",
       "1 2018-09-02                   1057\n",
       "2 2018-09-03                   1111\n",
       "3 2018-09-04                    951\n",
       "4 2018-09-05                    228"
      ]
     },
     "execution_count": 3,
     "metadata": {},
     "output_type": "execute_result"
    }
   ],
   "source": [
    "df.head()"
   ]
  },
  {
   "cell_type": "code",
   "execution_count": 4,
   "id": "298275fc",
   "metadata": {},
   "outputs": [
    {
     "data": {
      "text/html": [
       "<div>\n",
       "<style scoped>\n",
       "    .dataframe tbody tr th:only-of-type {\n",
       "        vertical-align: middle;\n",
       "    }\n",
       "\n",
       "    .dataframe tbody tr th {\n",
       "        vertical-align: top;\n",
       "    }\n",
       "\n",
       "    .dataframe thead th {\n",
       "        text-align: right;\n",
       "    }\n",
       "</style>\n",
       "<table border=\"1\" class=\"dataframe\">\n",
       "  <thead>\n",
       "    <tr style=\"text-align: right;\">\n",
       "      <th></th>\n",
       "      <th># of Service Requests</th>\n",
       "    </tr>\n",
       "  </thead>\n",
       "  <tbody>\n",
       "    <tr>\n",
       "      <th>count</th>\n",
       "      <td>30.000000</td>\n",
       "    </tr>\n",
       "    <tr>\n",
       "      <th>mean</th>\n",
       "      <td>949.000000</td>\n",
       "    </tr>\n",
       "    <tr>\n",
       "      <th>std</th>\n",
       "      <td>459.698477</td>\n",
       "    </tr>\n",
       "    <tr>\n",
       "      <th>min</th>\n",
       "      <td>155.000000</td>\n",
       "    </tr>\n",
       "    <tr>\n",
       "      <th>25%</th>\n",
       "      <td>360.750000</td>\n",
       "    </tr>\n",
       "    <tr>\n",
       "      <th>50%</th>\n",
       "      <td>1103.500000</td>\n",
       "    </tr>\n",
       "    <tr>\n",
       "      <th>75%</th>\n",
       "      <td>1325.250000</td>\n",
       "    </tr>\n",
       "    <tr>\n",
       "      <th>max</th>\n",
       "      <td>1542.000000</td>\n",
       "    </tr>\n",
       "  </tbody>\n",
       "</table>\n",
       "</div>"
      ],
      "text/plain": [
       "       # of Service Requests\n",
       "count              30.000000\n",
       "mean              949.000000\n",
       "std               459.698477\n",
       "min               155.000000\n",
       "25%               360.750000\n",
       "50%              1103.500000\n",
       "75%              1325.250000\n",
       "max              1542.000000"
      ]
     },
     "execution_count": 4,
     "metadata": {},
     "output_type": "execute_result"
    }
   ],
   "source": [
    "df.describe()"
   ]
  },
  {
   "cell_type": "code",
   "execution_count": 32,
   "id": "cfcdb4f6",
   "metadata": {},
   "outputs": [
    {
     "data": {
      "text/plain": [
       "0     1054\n",
       "1     1057\n",
       "2     1111\n",
       "3      951\n",
       "4      228\n",
       "5      155\n",
       "6      260\n",
       "7     1333\n",
       "8     1213\n",
       "9     1165\n",
       "10    1302\n",
       "11     318\n",
       "12     381\n",
       "13    1465\n",
       "14    1377\n",
       "15    1153\n",
       "16    1133\n",
       "17    1028\n",
       "18     276\n",
       "19     338\n",
       "20    1444\n",
       "21    1444\n",
       "22    1357\n",
       "23    1096\n",
       "24    1029\n",
       "25     341\n",
       "26     354\n",
       "27    1542\n",
       "28    1335\n",
       "29    1230\n",
       "Name: # of Service Requests, dtype: int64"
      ]
     },
     "execution_count": 32,
     "metadata": {},
     "output_type": "execute_result"
    }
   ],
   "source": [
    "df1=df.reset_index()['# of Service Requests']\n",
    "df1"
   ]
  },
  {
   "cell_type": "markdown",
   "id": "2404c8f1",
   "metadata": {},
   "source": [
    "# Visualize the Data"
   ]
  },
  {
   "cell_type": "code",
   "execution_count": 33,
   "id": "162c22bf",
   "metadata": {},
   "outputs": [
    {
     "data": {
      "text/plain": [
       "[<matplotlib.lines.Line2D at 0x1bd658a2220>]"
      ]
     },
     "execution_count": 33,
     "metadata": {},
     "output_type": "execute_result"
    },
    {
     "data": {
      "image/png": "[encoded data removed]",
      "text/plain": [
       "<Figure size 432x288 with 1 Axes>"
      ]
     },
     "metadata": {
      "needs_background": "light"
     },
     "output_type": "display_data"
    }
   ],
   "source": [
    "import matplotlib.pyplot as plt\n",
    "plt.plot(df1)"
   ]
  },
  {
   "cell_type": "markdown",
   "id": "f70f2cdd",
   "metadata": {},
   "source": [
    "# Feature Scaling"
   ]
  },
  {
   "cell_type": "code",
   "execution_count": 34,
   "id": "3df45e27",
   "metadata": {},
   "outputs": [
    {
     "data": {
      "text/plain": [
       "array([[0.6481615 ],\n",
       "       [0.65032444],\n",
       "       [0.68925739],\n",
       "       [0.5739005 ],\n",
       "       [0.05263158],\n",
       "       [0.        ],\n",
       "       [0.07570296],\n",
       "       [0.84931507],\n",
       "       [0.7627974 ],\n",
       "       [0.72819034],\n",
       "       [0.82696467],\n",
       "       [0.11751983],\n",
       "       [0.1629416 ],\n",
       "       [0.9444845 ],\n",
       "       [0.88103821],\n",
       "       [0.71953857],\n",
       "       [0.70511896],\n",
       "       [0.62941601],\n",
       "       [0.08723864],\n",
       "       [0.13193944],\n",
       "       [0.92934391],\n",
       "       [0.92934391],\n",
       "       [0.8666186 ],\n",
       "       [0.67844268],\n",
       "       [0.63013699],\n",
       "       [0.13410238],\n",
       "       [0.14347513],\n",
       "       [1.        ],\n",
       "       [0.85075703],\n",
       "       [0.77505407]])"
      ]
     },
     "execution_count": 34,
     "metadata": {},
     "output_type": "execute_result"
    }
   ],
   "source": [
    "from sklearn.preprocessing import MinMaxScaler\n",
    "scaler=MinMaxScaler(feature_range=(0,1))\n",
    "df1=scaler.fit_transform(np.array(df1).reshape(-1,1))\n",
    "df1"
   ]
  },
  {
   "cell_type": "markdown",
   "id": "5553af95",
   "metadata": {},
   "source": [
    "# splitting dataset into train and test split\n"
   ]
  },
  {
   "cell_type": "code",
   "execution_count": 35,
   "id": "4f3c1569",
   "metadata": {},
   "outputs": [
    {
     "data": {
      "text/plain": [
       "(15, 15)"
      ]
     },
     "execution_count": 35,
     "metadata": {},
     "output_type": "execute_result"
    }
   ],
   "source": [
    "training_size=int(len(df1)*0.50)\n",
    "test_size=len(df1)-training_size\n",
    "train_data,test_data=df1[0:training_size,:],df1[training_size:len(df1),:1]\n",
    "train_data.size, test_data.size"
   ]
  },
  {
   "cell_type": "code",
   "execution_count": 36,
   "id": "f993bfaf",
   "metadata": {},
   "outputs": [],
   "source": [
    "def create_dataset(dataset, time_step=1):\n",
    "\tdataX, dataY = [], []\n",
    "\tfor i in range(len(dataset)-time_step-1):\n",
    "\t\ta = dataset[i:(i+time_step), 0]   \n",
    "\t\tdataX.append(a)\n",
    "\t\tdataY.append(dataset[i + time_step, 0])\n",
    "\treturn np.array(dataX), np.array(dataY)"
   ]
  },
  {
   "cell_type": "code",
   "execution_count": 45,
   "id": "3b699b88",
   "metadata": {},
   "outputs": [],
   "source": [
    "# reshape into X=t,t+1,t+2,t+3 and Y=t+4\n",
    "time_step = 7\n",
    "X_train, y_train = create_dataset(train_data, time_step)\n",
    "X_test, ytest = create_dataset(test_data, time_step)"
   ]
  },
  {
   "cell_type": "code",
   "execution_count": 46,
   "id": "50328327",
   "metadata": {},
   "outputs": [
    {
     "name": "stdout",
     "output_type": "stream",
     "text": [
      "(7, 7)\n",
      "(7,)\n"
     ]
    },
    {
     "data": {
      "text/plain": [
       "(None, None)"
      ]
     },
     "execution_count": 46,
     "metadata": {},
     "output_type": "execute_result"
    }
   ],
   "source": [
    "print(X_train.shape), print(y_train.shape)"
   ]
  },
  {
   "cell_type": "code",
   "execution_count": 47,
   "id": "8627f605",
   "metadata": {},
   "outputs": [
    {
     "name": "stdout",
     "output_type": "stream",
     "text": [
      "(7, 7)\n",
      "(7,)\n"
     ]
    },
    {
     "data": {
      "text/plain": [
       "(None, None)"
      ]
     },
     "execution_count": 47,
     "metadata": {},
     "output_type": "execute_result"
    }
   ],
   "source": [
    "print(X_test.shape), print(ytest.shape)"
   ]
  },
  {
   "cell_type": "code",
   "execution_count": 48,
   "id": "09133885",
   "metadata": {},
   "outputs": [],
   "source": [
    "# reshape input to be [samples, time steps, features] which is required for LSTM\n",
    "X_train =X_train.reshape(X_train.shape[0],X_train.shape[1] , 1)\n",
    "X_test = X_test.reshape(X_test.shape[0],X_test.shape[1] , 1)"
   ]
  },
  {
   "cell_type": "code",
   "execution_count": 49,
   "id": "75156876",
   "metadata": {},
   "outputs": [
    {
     "name": "stdout",
     "output_type": "stream",
     "text": [
      "(7, 7, 1)\n",
      "(7,)\n",
      "(7, 7, 1)\n",
      "(7,)\n"
     ]
    },
    {
     "data": {
      "text/plain": [
       "(None, None)"
      ]
     },
     "execution_count": 49,
     "metadata": {},
     "output_type": "execute_result"
    }
   ],
   "source": [
    "print(X_train.shape), print(y_train.shape)\n",
    "print(X_test.shape), print(ytest.shape)"
   ]
  },
  {
   "cell_type": "markdown",
   "id": "dcd4d13a",
   "metadata": {},
   "source": [
    "# Create the Stacked LSTM model"
   ]
  },
  {
   "cell_type": "code",
   "execution_count": 42,
   "id": "ad86b7ff",
   "metadata": {},
   "outputs": [],
   "source": [
    "from tensorflow.keras.models import Sequential\n",
    "from tensorflow.keras.layers import Dense\n",
    "from tensorflow.keras.layers import LSTM"
   ]
  },
  {
   "cell_type": "code",
   "execution_count": 50,
   "id": "d3b5aded",
   "metadata": {},
   "outputs": [],
   "source": [
    "model=Sequential()\n",
    "model.add(LSTM(50,return_sequences=True,input_shape=(7,1)))\n",
    "model.add(LSTM(50,return_sequences=True))\n",
    "model.add(LSTM(50))\n",
    "model.add(Dense(1))\n",
    "model.compile(loss='mean_squared_error',optimizer='adam')"
   ]
  },
  {
   "cell_type": "code",
   "execution_count": 51,
   "id": "fd0e5801",
   "metadata": {},
   "outputs": [
    {
     "name": "stdout",
     "output_type": "stream",
     "text": [
      "Epoch 1/100\n",
      "1/1 [==============================] - 5s 5s/step - loss: 0.4973 - val_loss: 0.4541\n",
      "Epoch 2/100\n",
      "1/1 [==============================] - 0s 23ms/step - loss: 0.4684 - val_loss: 0.4216\n",
      "Epoch 3/100\n",
      "1/1 [==============================] - 0s 22ms/step - loss: 0.4401 - val_loss: 0.3891\n",
      "Epoch 4/100\n",
      "1/1 [==============================] - 0s 23ms/step - loss: 0.4115 - val_loss: 0.3559\n",
      "Epoch 5/100\n",
      "1/1 [==============================] - 0s 23ms/step - loss: 0.3820 - val_loss: 0.3214\n",
      "Epoch 6/100\n",
      "1/1 [==============================] - 0s 21ms/step - loss: 0.3509 - val_loss: 0.2851\n",
      "Epoch 7/100\n",
      "1/1 [==============================] - 0s 23ms/step - loss: 0.3178 - val_loss: 0.2474\n",
      "Epoch 8/100\n",
      "1/1 [==============================] - 0s 23ms/step - loss: 0.2826 - val_loss: 0.2087\n",
      "Epoch 9/100\n",
      "1/1 [==============================] - 0s 23ms/step - loss: 0.2453 - val_loss: 0.1703\n",
      "Epoch 10/100\n",
      "1/1 [==============================] - 0s 23ms/step - loss: 0.2066 - val_loss: 0.1346\n",
      "Epoch 11/100\n",
      "1/1 [==============================] - 0s 24ms/step - loss: 0.1677 - val_loss: 0.1058\n",
      "Epoch 12/100\n",
      "1/1 [==============================] - 0s 22ms/step - loss: 0.1307 - val_loss: 0.0903\n",
      "Epoch 13/100\n",
      "1/1 [==============================] - 0s 23ms/step - loss: 0.0994 - val_loss: 0.0978\n",
      "Epoch 14/100\n",
      "1/1 [==============================] - 0s 23ms/step - loss: 0.0797 - val_loss: 0.1394\n",
      "Epoch 15/100\n",
      "1/1 [==============================] - 0s 22ms/step - loss: 0.0789 - val_loss: 0.2132\n",
      "Epoch 16/100\n",
      "1/1 [==============================] - 0s 21ms/step - loss: 0.0995 - val_loss: 0.2782\n",
      "Epoch 17/100\n",
      "1/1 [==============================] - 0s 22ms/step - loss: 0.1242 - val_loss: 0.2965\n",
      "Epoch 18/100\n",
      "1/1 [==============================] - 0s 22ms/step - loss: 0.1323 - val_loss: 0.2730\n",
      "Epoch 19/100\n",
      "1/1 [==============================] - 0s 20ms/step - loss: 0.1233 - val_loss: 0.2292\n",
      "Epoch 20/100\n",
      "1/1 [==============================] - 0s 21ms/step - loss: 0.1068 - val_loss: 0.1837\n",
      "Epoch 21/100\n",
      "1/1 [==============================] - 0s 23ms/step - loss: 0.0914 - val_loss: 0.1465\n",
      "Epoch 22/100\n",
      "1/1 [==============================] - 0s 22ms/step - loss: 0.0813 - val_loss: 0.1205\n",
      "Epoch 23/100\n",
      "1/1 [==============================] - 0s 20ms/step - loss: 0.0773 - val_loss: 0.1046\n",
      "Epoch 24/100\n",
      "1/1 [==============================] - 0s 22ms/step - loss: 0.0779 - val_loss: 0.0960\n",
      "Epoch 25/100\n",
      "1/1 [==============================] - 0s 21ms/step - loss: 0.0810 - val_loss: 0.0920\n",
      "Epoch 26/100\n",
      "1/1 [==============================] - 0s 21ms/step - loss: 0.0851 - val_loss: 0.0904\n",
      "Epoch 27/100\n",
      "1/1 [==============================] - 0s 23ms/step - loss: 0.0886 - val_loss: 0.0899\n",
      "Epoch 28/100\n",
      "1/1 [==============================] - 0s 20ms/step - loss: 0.0910 - val_loss: 0.0898\n",
      "Epoch 29/100\n",
      "1/1 [==============================] - 0s 21ms/step - loss: 0.0920 - val_loss: 0.0897\n",
      "Epoch 30/100\n",
      "1/1 [==============================] - 0s 21ms/step - loss: 0.0914 - val_loss: 0.0897\n",
      "Epoch 31/100\n",
      "1/1 [==============================] - 0s 21ms/step - loss: 0.0896 - val_loss: 0.0902\n",
      "Epoch 32/100\n",
      "1/1 [==============================] - 0s 21ms/step - loss: 0.0869 - val_loss: 0.0915\n",
      "Epoch 33/100\n",
      "1/1 [==============================] - 0s 21ms/step - loss: 0.0836 - val_loss: 0.0942\n",
      "Epoch 34/100\n",
      "1/1 [==============================] - 0s 21ms/step - loss: 0.0804 - val_loss: 0.0987\n",
      "Epoch 35/100\n",
      "1/1 [==============================] - 0s 22ms/step - loss: 0.0777 - val_loss: 0.1052\n",
      "Epoch 36/100\n",
      "1/1 [==============================] - 0s 22ms/step - loss: 0.0758 - val_loss: 0.1135\n",
      "Epoch 37/100\n",
      "1/1 [==============================] - 0s 21ms/step - loss: 0.0750 - val_loss: 0.1229\n",
      "Epoch 38/100\n",
      "1/1 [==============================] - 0s 20ms/step - loss: 0.0753 - val_loss: 0.1323\n",
      "Epoch 39/100\n",
      "1/1 [==============================] - 0s 21ms/step - loss: 0.0762 - val_loss: 0.1402\n",
      "Epoch 40/100\n",
      "1/1 [==============================] - 0s 20ms/step - loss: 0.0773 - val_loss: 0.1453\n",
      "Epoch 41/100\n",
      "1/1 [==============================] - 0s 21ms/step - loss: 0.0780 - val_loss: 0.1467\n",
      "Epoch 42/100\n",
      "1/1 [==============================] - 0s 21ms/step - loss: 0.0779 - val_loss: 0.1445\n",
      "Epoch 43/100\n",
      "1/1 [==============================] - 0s 21ms/step - loss: 0.0770 - val_loss: 0.1394\n",
      "Epoch 44/100\n",
      "1/1 [==============================] - 0s 21ms/step - loss: 0.0755 - val_loss: 0.1325\n",
      "Epoch 45/100\n",
      "1/1 [==============================] - 0s 20ms/step - loss: 0.0739 - val_loss: 0.1250\n",
      "Epoch 46/100\n",
      "1/1 [==============================] - 0s 23ms/step - loss: 0.0725 - val_loss: 0.1180\n",
      "Epoch 47/100\n",
      "1/1 [==============================] - 0s 20ms/step - loss: 0.0716 - val_loss: 0.1119\n",
      "Epoch 48/100\n",
      "1/1 [==============================] - 0s 21ms/step - loss: 0.0711 - val_loss: 0.1072\n",
      "Epoch 49/100\n",
      "1/1 [==============================] - 0s 21ms/step - loss: 0.0710 - val_loss: 0.1037\n",
      "Epoch 50/100\n",
      "1/1 [==============================] - 0s 21ms/step - loss: 0.0710 - val_loss: 0.1015\n",
      "Epoch 51/100\n",
      "1/1 [==============================] - 0s 21ms/step - loss: 0.0709 - val_loss: 0.1004\n",
      "Epoch 52/100\n",
      "1/1 [==============================] - 0s 23ms/step - loss: 0.0707 - val_loss: 0.1003\n",
      "Epoch 53/100\n",
      "1/1 [==============================] - 0s 24ms/step - loss: 0.0702 - val_loss: 0.1013\n",
      "Epoch 54/100\n",
      "1/1 [==============================] - 0s 21ms/step - loss: 0.0695 - val_loss: 0.1034\n",
      "Epoch 55/100\n",
      "1/1 [==============================] - 0s 19ms/step - loss: 0.0685 - val_loss: 0.1064\n",
      "Epoch 56/100\n",
      "1/1 [==============================] - 0s 20ms/step - loss: 0.0676 - val_loss: 0.1104\n",
      "Epoch 57/100\n",
      "1/1 [==============================] - 0s 22ms/step - loss: 0.0666 - val_loss: 0.1151\n",
      "Epoch 58/100\n",
      "1/1 [==============================] - 0s 22ms/step - loss: 0.0659 - val_loss: 0.1201\n",
      "Epoch 59/100\n",
      "1/1 [==============================] - 0s 21ms/step - loss: 0.0653 - val_loss: 0.1250\n",
      "Epoch 60/100\n",
      "1/1 [==============================] - 0s 21ms/step - loss: 0.0648 - val_loss: 0.1291\n",
      "Epoch 61/100\n",
      "1/1 [==============================] - 0s 20ms/step - loss: 0.0644 - val_loss: 0.1319\n",
      "Epoch 62/100\n",
      "1/1 [==============================] - 0s 21ms/step - loss: 0.0639 - val_loss: 0.1331\n",
      "Epoch 63/100\n",
      "1/1 [==============================] - 0s 21ms/step - loss: 0.0632 - val_loss: 0.1326\n",
      "Epoch 64/100\n",
      "1/1 [==============================] - 0s 21ms/step - loss: 0.0624 - val_loss: 0.1307\n",
      "Epoch 65/100\n",
      "1/1 [==============================] - 0s 20ms/step - loss: 0.0615 - val_loss: 0.1279\n",
      "Epoch 66/100\n",
      "1/1 [==============================] - 0s 21ms/step - loss: 0.0606 - val_loss: 0.1248\n",
      "Epoch 67/100\n",
      "1/1 [==============================] - 0s 20ms/step - loss: 0.0597 - val_loss: 0.1217\n",
      "Epoch 68/100\n",
      "1/1 [==============================] - 0s 21ms/step - loss: 0.0590 - val_loss: 0.1193\n",
      "Epoch 69/100\n",
      "1/1 [==============================] - 0s 21ms/step - loss: 0.0582 - val_loss: 0.1178\n",
      "Epoch 70/100\n",
      "1/1 [==============================] - 0s 21ms/step - loss: 0.0576 - val_loss: 0.1173\n",
      "Epoch 71/100\n",
      "1/1 [==============================] - 0s 22ms/step - loss: 0.0568 - val_loss: 0.1181\n",
      "Epoch 72/100\n",
      "1/1 [==============================] - 0s 21ms/step - loss: 0.0560 - val_loss: 0.1202\n",
      "Epoch 73/100\n",
      "1/1 [==============================] - 0s 20ms/step - loss: 0.0551 - val_loss: 0.1234\n",
      "Epoch 74/100\n",
      "1/1 [==============================] - 0s 20ms/step - loss: 0.0542 - val_loss: 0.1276\n",
      "Epoch 75/100\n",
      "1/1 [==============================] - 0s 20ms/step - loss: 0.0533 - val_loss: 0.1324\n",
      "Epoch 76/100\n",
      "1/1 [==============================] - 0s 21ms/step - loss: 0.0524 - val_loss: 0.1373\n",
      "Epoch 77/100\n",
      "1/1 [==============================] - 0s 22ms/step - loss: 0.0516 - val_loss: 0.1418\n",
      "Epoch 78/100\n",
      "1/1 [==============================] - 0s 21ms/step - loss: 0.0508 - val_loss: 0.1452\n",
      "Epoch 79/100\n",
      "1/1 [==============================] - 0s 20ms/step - loss: 0.0500 - val_loss: 0.1473\n",
      "Epoch 80/100\n",
      "1/1 [==============================] - 0s 21ms/step - loss: 0.0492 - val_loss: 0.1479\n",
      "Epoch 81/100\n",
      "1/1 [==============================] - 0s 21ms/step - loss: 0.0483 - val_loss: 0.1474\n",
      "Epoch 82/100\n",
      "1/1 [==============================] - ETA: 0s - loss: 0.047 - 0s 21ms/step - loss: 0.0475 - val_loss: 0.1463\n",
      "Epoch 83/100\n"
     ]
    },
    {
     "name": "stdout",
     "output_type": "stream",
     "text": [
      "1/1 [==============================] - 0s 20ms/step - loss: 0.0467 - val_loss: 0.1452\n",
      "Epoch 84/100\n",
      "1/1 [==============================] - 0s 21ms/step - loss: 0.0460 - val_loss: 0.1447\n",
      "Epoch 85/100\n",
      "1/1 [==============================] - 0s 21ms/step - loss: 0.0453 - val_loss: 0.1454\n",
      "Epoch 86/100\n",
      "1/1 [==============================] - 0s 21ms/step - loss: 0.0447 - val_loss: 0.1474\n",
      "Epoch 87/100\n",
      "1/1 [==============================] - 0s 21ms/step - loss: 0.0441 - val_loss: 0.1508\n",
      "Epoch 88/100\n",
      "1/1 [==============================] - 0s 21ms/step - loss: 0.0435 - val_loss: 0.1554\n",
      "Epoch 89/100\n",
      "1/1 [==============================] - 0s 20ms/step - loss: 0.0430 - val_loss: 0.1606\n",
      "Epoch 90/100\n",
      "1/1 [==============================] - 0s 22ms/step - loss: 0.0425 - val_loss: 0.1656\n",
      "Epoch 91/100\n",
      "1/1 [==============================] - 0s 21ms/step - loss: 0.0422 - val_loss: 0.1695\n",
      "Epoch 92/100\n",
      "1/1 [==============================] - 0s 20ms/step - loss: 0.0418 - val_loss: 0.1719\n",
      "Epoch 93/100\n",
      "1/1 [==============================] - 0s 20ms/step - loss: 0.0415 - val_loss: 0.1724\n",
      "Epoch 94/100\n",
      "1/1 [==============================] - 0s 20ms/step - loss: 0.0413 - val_loss: 0.1714\n",
      "Epoch 95/100\n",
      "1/1 [==============================] - 0s 22ms/step - loss: 0.0411 - val_loss: 0.1696\n",
      "Epoch 96/100\n",
      "1/1 [==============================] - ETA: 0s - loss: 0.040 - 0s 21ms/step - loss: 0.0409 - val_loss: 0.1677\n",
      "Epoch 97/100\n",
      "1/1 [==============================] - 0s 20ms/step - loss: 0.0407 - val_loss: 0.1664\n",
      "Epoch 98/100\n",
      "1/1 [==============================] - 0s 20ms/step - loss: 0.0406 - val_loss: 0.1660\n",
      "Epoch 99/100\n",
      "1/1 [==============================] - 0s 21ms/step - loss: 0.0404 - val_loss: 0.1664\n",
      "Epoch 100/100\n",
      "1/1 [==============================] - 0s 20ms/step - loss: 0.0402 - val_loss: 0.1672\n"
     ]
    },
    {
     "data": {
      "text/plain": [
       "<tensorflow.python.keras.callbacks.History at 0x1bd79b069d0>"
      ]
     },
     "execution_count": 51,
     "metadata": {},
     "output_type": "execute_result"
    }
   ],
   "source": [
    "model.fit(X_train,y_train,validation_data=(X_test,ytest),epochs=100,batch_size=10,verbose=1)"
   ]
  },
  {
   "cell_type": "markdown",
   "id": "e27a0602",
   "metadata": {},
   "source": [
    "# Model prediction"
   ]
  },
  {
   "cell_type": "code",
   "execution_count": 52,
   "id": "d7efecf7",
   "metadata": {},
   "outputs": [],
   "source": [
    "train_predict=model.predict(X_train)\n",
    "test_predict=model.predict(X_test)"
   ]
  },
  {
   "cell_type": "code",
   "execution_count": 53,
   "id": "52da9f9c",
   "metadata": {},
   "outputs": [],
   "source": [
    "##Transformback to original form\n",
    "train_predict=scaler.inverse_transform(train_predict)\n",
    "test_predict=scaler.inverse_transform(test_predict)"
   ]
  },
  {
   "cell_type": "markdown",
   "id": "f948fea6",
   "metadata": {},
   "source": [
    "# Performance Metrics"
   ]
  },
  {
   "cell_type": "code",
   "execution_count": 54,
   "id": "5fa61c8d",
   "metadata": {},
   "outputs": [
    {
     "data": {
      "text/plain": [
       "1078.2510272925088"
      ]
     },
     "execution_count": 54,
     "metadata": {},
     "output_type": "execute_result"
    }
   ],
   "source": [
    "### Calculate RMSE performance metrics\n",
    "import math\n",
    "from sklearn.metrics import mean_squared_error\n",
    "math.sqrt(mean_squared_error(y_train,train_predict))"
   ]
  },
  {
   "cell_type": "code",
   "execution_count": 55,
   "id": "46697d75",
   "metadata": {},
   "outputs": [
    {
     "data": {
      "text/plain": [
       "1523.5577358315697"
      ]
     },
     "execution_count": 55,
     "metadata": {},
     "output_type": "execute_result"
    }
   ],
   "source": [
    "### Test Data RMSE\n",
    "math.sqrt(mean_squared_error(ytest,test_predict))"
   ]
  },
  {
   "cell_type": "markdown",
   "id": "c47d20d6",
   "metadata": {},
   "source": [
    "#    # Prediction Plot"
   ]
  },
  {
   "cell_type": "code",
   "execution_count": 56,
   "id": "ddd3ec63",
   "metadata": {},
   "outputs": [
    {
     "data": {
      "image/png": "[encoded data removed]",
      "text/plain": [
       "<Figure size 432x288 with 1 Axes>"
      ]
     },
     "metadata": {
      "needs_background": "light"
     },
     "output_type": "display_data"
    }
   ],
   "source": [
    "# shift train predictions for plotting\n",
    "look_back=7\n",
    "trainPredictPlot = np.empty_like(df1)\n",
    "trainPredictPlot[:, :] = np.nan\n",
    "trainPredictPlot[look_back:len(train_predict)+look_back, :] = train_predict\n",
    "# shift test predictions for plotting\n",
    "testPredictPlot = np.empty_like(df1)\n",
    "testPredictPlot[:, :] = np.nan\n",
    "testPredictPlot[len(train_predict)+(look_back*2)+1:len(df1)-1, :] = test_predict\n",
    "# plot baseline and predictions\n",
    "plt.plot(scaler.inverse_transform(df1))\n",
    "plt.plot(trainPredictPlot)\n",
    "plt.plot(testPredictPlot)\n",
    "plt.show()"
   ]
  },
  {
   "cell_type": "markdown",
   "id": "209be3ab",
   "metadata": {},
   "source": [
    "# Next 3 days prediction"
   ]
  },
  {
   "cell_type": "code",
   "execution_count": 57,
   "id": "b10bc90a",
   "metadata": {},
   "outputs": [
    {
     "data": {
      "text/plain": [
       "15"
      ]
     },
     "execution_count": 57,
     "metadata": {},
     "output_type": "execute_result"
    }
   ],
   "source": [
    "len(test_data)"
   ]
  },
  {
   "cell_type": "code",
   "execution_count": 58,
   "id": "7218a40f",
   "metadata": {},
   "outputs": [
    {
     "data": {
      "text/plain": [
       "(1, 15)"
      ]
     },
     "execution_count": 58,
     "metadata": {},
     "output_type": "execute_result"
    }
   ],
   "source": [
    "x_input=test_data[len(test_data)-15:].reshape(1,-1)\n",
    "x_input.shape"
   ]
  },
  {
   "cell_type": "code",
   "execution_count": 59,
   "id": "aaba431f",
   "metadata": {},
   "outputs": [],
   "source": [
    "temp_input=list(x_input)\n",
    "temp_input=temp_input[0].tolist()"
   ]
  },
  {
   "cell_type": "code",
   "execution_count": 63,
   "id": "43512b23",
   "metadata": {},
   "outputs": [
    {
     "data": {
      "text/plain": [
       "[0.7195385724585435,\n",
       " 0.7051189617880316,\n",
       " 0.6294160057678442,\n",
       " 0.08723864455659697,\n",
       " 0.13193943763518384,\n",
       " 0.9293439077144916,\n",
       " 0.9293439077144916,\n",
       " 0.8666186012977648,\n",
       " 0.6784426820475846,\n",
       " 0.6301369863013697,\n",
       " 0.13410237923576063,\n",
       " 0.14347512617159336,\n",
       " 1.0,\n",
       " 0.8507570295602018,\n",
       " 0.7750540735400144]"
      ]
     },
     "execution_count": 63,
     "metadata": {},
     "output_type": "execute_result"
    }
   ],
   "source": [
    "temp_input"
   ]
  },
  {
   "cell_type": "code",
   "execution_count": 62,
   "id": "57526054",
   "metadata": {},
   "outputs": [
    {
     "data": {
      "text/plain": [
       "array([[0.70511896, 0.62941601, 0.08723864, 0.13193944, 0.92934391,\n",
       "        0.92934391, 0.8666186 , 0.67844268, 0.63013699, 0.13410238,\n",
       "        0.14347513, 1.        , 0.85075703, 0.77505407]])"
      ]
     },
     "execution_count": 62,
     "metadata": {},
     "output_type": "execute_result"
    }
   ],
   "source": [
    "x_input"
   ]
  },
  {
   "cell_type": "code",
   "execution_count": 60,
   "id": "5db49fb8",
   "metadata": {},
   "outputs": [
    {
     "name": "stdout",
     "output_type": "stream",
     "text": [
      "0 day input [0.70511896 0.62941601 0.08723864 0.13193944 0.92934391 0.92934391\n",
      " 0.8666186  0.67844268 0.63013699 0.13410238 0.14347513 1.\n",
      " 0.85075703 0.77505407]\n"
     ]
    },
    {
     "ename": "ValueError",
     "evalue": "cannot reshape array of size 14 into shape (1,7,1)",
     "output_type": "error",
     "traceback": [
      "\u001b[1;31m---------------------------------------------------------------------------\u001b[0m",
      "\u001b[1;31mValueError\u001b[0m                                Traceback (most recent call last)",
      "\u001b[1;32m<ipython-input-60-24d380c8101a>\u001b[0m in \u001b[0;36m<module>\u001b[1;34m\u001b[0m\n\u001b[0;32m     12\u001b[0m         \u001b[0mprint\u001b[0m\u001b[1;33m(\u001b[0m\u001b[1;34m\"{} day input {}\"\u001b[0m\u001b[1;33m.\u001b[0m\u001b[0mformat\u001b[0m\u001b[1;33m(\u001b[0m\u001b[0mi\u001b[0m\u001b[1;33m,\u001b[0m\u001b[0mx_input\u001b[0m\u001b[1;33m)\u001b[0m\u001b[1;33m)\u001b[0m\u001b[1;33m\u001b[0m\u001b[1;33m\u001b[0m\u001b[0m\n\u001b[0;32m     13\u001b[0m         \u001b[0mx_input\u001b[0m\u001b[1;33m=\u001b[0m\u001b[0mx_input\u001b[0m\u001b[1;33m.\u001b[0m\u001b[0mreshape\u001b[0m\u001b[1;33m(\u001b[0m\u001b[1;36m1\u001b[0m\u001b[1;33m,\u001b[0m\u001b[1;33m-\u001b[0m\u001b[1;36m1\u001b[0m\u001b[1;33m)\u001b[0m\u001b[1;33m\u001b[0m\u001b[1;33m\u001b[0m\u001b[0m\n\u001b[1;32m---> 14\u001b[1;33m         \u001b[0mx_input\u001b[0m \u001b[1;33m=\u001b[0m \u001b[0mx_input\u001b[0m\u001b[1;33m.\u001b[0m\u001b[0mreshape\u001b[0m\u001b[1;33m(\u001b[0m\u001b[1;33m(\u001b[0m\u001b[1;36m1\u001b[0m\u001b[1;33m,\u001b[0m \u001b[0mn_steps\u001b[0m\u001b[1;33m,\u001b[0m \u001b[1;36m1\u001b[0m\u001b[1;33m)\u001b[0m\u001b[1;33m)\u001b[0m\u001b[1;33m\u001b[0m\u001b[1;33m\u001b[0m\u001b[0m\n\u001b[0m\u001b[0;32m     15\u001b[0m         \u001b[1;31m#print(x_input)\u001b[0m\u001b[1;33m\u001b[0m\u001b[1;33m\u001b[0m\u001b[1;33m\u001b[0m\u001b[0m\n\u001b[0;32m     16\u001b[0m         \u001b[0myhat\u001b[0m \u001b[1;33m=\u001b[0m \u001b[0mmodel\u001b[0m\u001b[1;33m.\u001b[0m\u001b[0mpredict\u001b[0m\u001b[1;33m(\u001b[0m\u001b[0mx_input\u001b[0m\u001b[1;33m,\u001b[0m \u001b[0mverbose\u001b[0m\u001b[1;33m=\u001b[0m\u001b[1;36m0\u001b[0m\u001b[1;33m)\u001b[0m\u001b[1;33m\u001b[0m\u001b[1;33m\u001b[0m\u001b[0m\n",
      "\u001b[1;31mValueError\u001b[0m: cannot reshape array of size 14 into shape (1,7,1)"
     ]
    }
   ],
   "source": [
    "# demonstrate prediction for next 3 days \n",
    "from numpy import array\n",
    "\n",
    "lst_output=[]\n",
    "n_steps=7\n",
    "i=0\n",
    "while(i<3):\n",
    "    \n",
    "    if(len(temp_input)>7):\n",
    "        #print(temp_input)\n",
    "        x_input=np.array(temp_input[1:])\n",
    "        print(\"{} day input {}\".format(i,x_input))\n",
    "        x_input=x_input.reshape(1,-1)\n",
    "        x_input = x_input.reshape((1, n_steps, 1))\n",
    "        #print(x_input)\n",
    "        yhat = model.predict(x_input, verbose=0)\n",
    "        print(\"{} day output {}\".format(i,yhat))\n",
    "        temp_input.extend(yhat[0].tolist())\n",
    "        temp_input=temp_input[1:]\n",
    "        #print(temp_input)\n",
    "        lst_output.extend(yhat.tolist())\n",
    "        i=i+1\n",
    "    else:\n",
    "        x_input = x_input.reshape((1, n_steps,1))\n",
    "        yhat = model.predict(x_input, verbose=0)\n",
    "        print(yhat[0])\n",
    "        temp_input.extend(yhat[0].tolist())\n",
    "        print(len(temp_input))\n",
    "        lst_output.extend(yhat.tolist())\n",
    "        i=i+1\n",
    "    \n",
    "\n",
    "print(lst_output)"
   ]
  },
  {
   "cell_type": "code",
   "execution_count": null,
   "id": "f6b501cf",
   "metadata": {},
   "outputs": [],
   "source": []
  },
  {
   "cell_type": "code",
   "execution_count": null,
   "id": "fa81abeb",
   "metadata": {},
   "outputs": [],
   "source": []
  },
  {
   "cell_type": "code",
   "execution_count": null,
   "id": "008dc5bb",
   "metadata": {},
   "outputs": [],
   "source": []
  },
  {
   "cell_type": "code",
   "execution_count": 19,
   "id": "7a053175",
   "metadata": {},
   "outputs": [],
   "source": [
    "df=pd.read_excel('C:/Users/ADMIN/Desktop/Data Science/Case Study/AWR Case study/Daily Service Requests.xlsx')"
   ]
  },
  {
   "cell_type": "code",
   "execution_count": 20,
   "id": "6894ae1e",
   "metadata": {},
   "outputs": [],
   "source": [
    "from statsmodels.tsa.stattools import adfuller\n",
    "test_result=adfuller(df['# of Service Requests'])"
   ]
  },
  {
   "cell_type": "code",
   "execution_count": 21,
   "id": "180167e8",
   "metadata": {},
   "outputs": [],
   "source": [
    "#Ho: It is non stationary\n",
    "#H1: It is stationary\n",
    "def adfuller_test(req):\n",
    "    result=adfuller(req)\n",
    "    labels = ['ADF Test Statistic','p-value','#Lags Used','Number of Observations Used']\n",
    "    for value,label in zip(result,labels):\n",
    "        print(label+' : '+str(value) )\n",
    "    if result[1] <= 0.05:\n",
    "        print(\"strong evidence against the null hypothesis(Ho), reject the null hypothesis. Data has no unit root and is stationary\")\n",
    "    else:\n",
    "        print(\"weak evidence against null hypothesis, time series has a unit root, indicating it is non-stationary \")"
   ]
  },
  {
   "cell_type": "code",
   "execution_count": 22,
   "id": "3253af99",
   "metadata": {},
   "outputs": [
    {
     "name": "stdout",
     "output_type": "stream",
     "text": [
      "ADF Test Statistic : -2.5696563995858814\n",
      "p-value : 0.09943223285370917\n",
      "#Lags Used : 6\n",
      "Number of Observations Used : 23\n",
      "weak evidence against null hypothesis, time series has a unit root, indicating it is non-stationary \n"
     ]
    }
   ],
   "source": [
    "adfuller_test(df['# of Service Requests'])"
   ]
  },
  {
   "cell_type": "markdown",
   "id": "b51c73b3",
   "metadata": {},
   "source": [
    "# Differencing"
   ]
  },
  {
   "cell_type": "code",
   "execution_count": 23,
   "id": "e0edb9b3",
   "metadata": {},
   "outputs": [],
   "source": [
    "df['Seasonal First Difference']=df['# of Service Requests']-df['# of Service Requests'].shift(6)"
   ]
  },
  {
   "cell_type": "code",
   "execution_count": 24,
   "id": "a7ca3a32",
   "metadata": {},
   "outputs": [
    {
     "data": {
      "text/html": [
       "<div>\n",
       "<style scoped>\n",
       "    .dataframe tbody tr th:only-of-type {\n",
       "        vertical-align: middle;\n",
       "    }\n",
       "\n",
       "    .dataframe tbody tr th {\n",
       "        vertical-align: top;\n",
       "    }\n",
       "\n",
       "    .dataframe thead th {\n",
       "        text-align: right;\n",
       "    }\n",
       "</style>\n",
       "<table border=\"1\" class=\"dataframe\">\n",
       "  <thead>\n",
       "    <tr style=\"text-align: right;\">\n",
       "      <th></th>\n",
       "      <th>Date</th>\n",
       "      <th># of Service Requests</th>\n",
       "      <th>Seasonal First Difference</th>\n",
       "    </tr>\n",
       "  </thead>\n",
       "  <tbody>\n",
       "    <tr>\n",
       "      <th>0</th>\n",
       "      <td>2018-09-01</td>\n",
       "      <td>1054</td>\n",
       "      <td>NaN</td>\n",
       "    </tr>\n",
       "    <tr>\n",
       "      <th>1</th>\n",
       "      <td>2018-09-02</td>\n",
       "      <td>1057</td>\n",
       "      <td>NaN</td>\n",
       "    </tr>\n",
       "    <tr>\n",
       "      <th>2</th>\n",
       "      <td>2018-09-03</td>\n",
       "      <td>1111</td>\n",
       "      <td>NaN</td>\n",
       "    </tr>\n",
       "    <tr>\n",
       "      <th>3</th>\n",
       "      <td>2018-09-04</td>\n",
       "      <td>951</td>\n",
       "      <td>NaN</td>\n",
       "    </tr>\n",
       "    <tr>\n",
       "      <th>4</th>\n",
       "      <td>2018-09-05</td>\n",
       "      <td>228</td>\n",
       "      <td>NaN</td>\n",
       "    </tr>\n",
       "    <tr>\n",
       "      <th>5</th>\n",
       "      <td>2018-09-06</td>\n",
       "      <td>155</td>\n",
       "      <td>NaN</td>\n",
       "    </tr>\n",
       "    <tr>\n",
       "      <th>6</th>\n",
       "      <td>2018-09-07</td>\n",
       "      <td>260</td>\n",
       "      <td>-794.0</td>\n",
       "    </tr>\n",
       "    <tr>\n",
       "      <th>7</th>\n",
       "      <td>2018-09-08</td>\n",
       "      <td>1333</td>\n",
       "      <td>276.0</td>\n",
       "    </tr>\n",
       "    <tr>\n",
       "      <th>8</th>\n",
       "      <td>2018-09-09</td>\n",
       "      <td>1213</td>\n",
       "      <td>102.0</td>\n",
       "    </tr>\n",
       "    <tr>\n",
       "      <th>9</th>\n",
       "      <td>2018-09-10</td>\n",
       "      <td>1165</td>\n",
       "      <td>214.0</td>\n",
       "    </tr>\n",
       "    <tr>\n",
       "      <th>10</th>\n",
       "      <td>2018-09-11</td>\n",
       "      <td>1302</td>\n",
       "      <td>1074.0</td>\n",
       "    </tr>\n",
       "    <tr>\n",
       "      <th>11</th>\n",
       "      <td>2018-09-12</td>\n",
       "      <td>318</td>\n",
       "      <td>163.0</td>\n",
       "    </tr>\n",
       "    <tr>\n",
       "      <th>12</th>\n",
       "      <td>2018-09-13</td>\n",
       "      <td>381</td>\n",
       "      <td>121.0</td>\n",
       "    </tr>\n",
       "    <tr>\n",
       "      <th>13</th>\n",
       "      <td>2018-09-14</td>\n",
       "      <td>1465</td>\n",
       "      <td>132.0</td>\n",
       "    </tr>\n",
       "    <tr>\n",
       "      <th>14</th>\n",
       "      <td>2018-09-15</td>\n",
       "      <td>1377</td>\n",
       "      <td>164.0</td>\n",
       "    </tr>\n",
       "  </tbody>\n",
       "</table>\n",
       "</div>"
      ],
      "text/plain": [
       "         Date  # of Service Requests  Seasonal First Difference\n",
       "0  2018-09-01                   1054                        NaN\n",
       "1  2018-09-02                   1057                        NaN\n",
       "2  2018-09-03                   1111                        NaN\n",
       "3  2018-09-04                    951                        NaN\n",
       "4  2018-09-05                    228                        NaN\n",
       "5  2018-09-06                    155                        NaN\n",
       "6  2018-09-07                    260                     -794.0\n",
       "7  2018-09-08                   1333                      276.0\n",
       "8  2018-09-09                   1213                      102.0\n",
       "9  2018-09-10                   1165                      214.0\n",
       "10 2018-09-11                   1302                     1074.0\n",
       "11 2018-09-12                    318                      163.0\n",
       "12 2018-09-13                    381                      121.0\n",
       "13 2018-09-14                   1465                      132.0\n",
       "14 2018-09-15                   1377                      164.0"
      ]
     },
     "execution_count": 24,
     "metadata": {},
     "output_type": "execute_result"
    }
   ],
   "source": [
    "df.head(15)"
   ]
  },
  {
   "cell_type": "code",
   "execution_count": 25,
   "id": "3880cea7",
   "metadata": {},
   "outputs": [
    {
     "name": "stdout",
     "output_type": "stream",
     "text": [
      "ADF Test Statistic : -0.9896203847929188\n",
      "p-value : 0.7570311767197857\n",
      "#Lags Used : 6\n",
      "Number of Observations Used : 17\n",
      "weak evidence against null hypothesis, time series has a unit root, indicating it is non-stationary \n"
     ]
    }
   ],
   "source": [
    "## Again test dickey fuller test\n",
    "adfuller_test(df['Seasonal First Difference'].dropna())"
   ]
  },
  {
   "cell_type": "code",
   "execution_count": 26,
   "id": "c0f43dc0",
   "metadata": {},
   "outputs": [
    {
     "data": {
      "text/plain": [
       "<AxesSubplot:>"
      ]
     },
     "execution_count": 26,
     "metadata": {},
     "output_type": "execute_result"
    },
    {
     "data": {
      "image/png": "[encoded data removed]",
      "text/plain": [
       "<Figure size 432x288 with 1 Axes>"
      ]
     },
     "metadata": {
      "needs_background": "light"
     },
     "output_type": "display_data"
    }
   ],
   "source": [
    "df['Seasonal First Difference'].plot()"
   ]
  },
  {
   "cell_type": "markdown",
   "id": "aa3215c5",
   "metadata": {},
   "source": [
    "# Auto Regressive Model"
   ]
  },
  {
   "cell_type": "code",
   "execution_count": 27,
   "id": "5d645edc",
   "metadata": {},
   "outputs": [
    {
     "data": {
      "image/png": "[encoded data removed]",
      "text/plain": [
       "<Figure size 432x288 with 1 Axes>"
      ]
     },
     "metadata": {
      "needs_background": "light"
     },
     "output_type": "display_data"
    }
   ],
   "source": [
    "from pandas.plotting import autocorrelation_plot\n",
    "autocorrelation_plot(df['# of Service Requests'])\n",
    "plt.show()"
   ]
  },
  {
   "cell_type": "markdown",
   "id": "6d2aa152",
   "metadata": {},
   "source": [
    "# Final Thoughts on Autocorrelation and Partial Autocorrelation\n",
    "<!-- Identification of an AR model is often best done with the PACF.\n",
    "For an AR model, the theoretical PACF “shuts off” past the order of the model. The phrase “shuts off” means that in theory the partial autocorrelations are equal to 0 beyond that point. Put another way, the number of non-zero partial autocorrelations gives the order of the AR model. By the “order of the model” we mean the most extreme lag of x that is used as a predictor.\n",
    "Identification of an MA model is often best done with the ACF rather than the PACF.\n",
    "\n",
    "For an MA model, the theoretical PACF does not shut off, but instead tapers toward 0 in some manner. A clearer pattern for an MA model is in the ACF. The ACF will have non-zero autocorrelations only at lags involved in the model.\n",
    "\n",
    "p,d,q p AR model lags d differencing q MA lags -->"
   ]
  },
  {
   "cell_type": "code",
   "execution_count": 28,
   "id": "a7e96940",
   "metadata": {},
   "outputs": [],
   "source": [
    "import statsmodels.api as sm\n",
    "from statsmodels.graphics.tsaplots import plot_acf,plot_pacf"
   ]
  },
  {
   "cell_type": "code",
   "execution_count": 29,
   "id": "1a3ca16d",
   "metadata": {},
   "outputs": [
    {
     "ename": "ValueError",
     "evalue": "could not broadcast input array from shape (23) into shape (41)",
     "output_type": "error",
     "traceback": [
      "\u001b[1;31m---------------------------------------------------------------------------\u001b[0m",
      "\u001b[1;31mValueError\u001b[0m                                Traceback (most recent call last)",
      "\u001b[1;32m<ipython-input-29-0c972e53e7ec>\u001b[0m in \u001b[0;36m<module>\u001b[1;34m\u001b[0m\n\u001b[0;32m      1\u001b[0m \u001b[0mfig\u001b[0m \u001b[1;33m=\u001b[0m \u001b[0mplt\u001b[0m\u001b[1;33m.\u001b[0m\u001b[0mfigure\u001b[0m\u001b[1;33m(\u001b[0m\u001b[0mfigsize\u001b[0m\u001b[1;33m=\u001b[0m\u001b[1;33m(\u001b[0m\u001b[1;36m12\u001b[0m\u001b[1;33m,\u001b[0m\u001b[1;36m8\u001b[0m\u001b[1;33m)\u001b[0m\u001b[1;33m)\u001b[0m\u001b[1;33m\u001b[0m\u001b[1;33m\u001b[0m\u001b[0m\n\u001b[0;32m      2\u001b[0m \u001b[0max1\u001b[0m \u001b[1;33m=\u001b[0m \u001b[0mfig\u001b[0m\u001b[1;33m.\u001b[0m\u001b[0madd_subplot\u001b[0m\u001b[1;33m(\u001b[0m\u001b[1;36m211\u001b[0m\u001b[1;33m)\u001b[0m\u001b[1;33m\u001b[0m\u001b[1;33m\u001b[0m\u001b[0m\n\u001b[1;32m----> 3\u001b[1;33m \u001b[0mfig\u001b[0m \u001b[1;33m=\u001b[0m \u001b[0msm\u001b[0m\u001b[1;33m.\u001b[0m\u001b[0mgraphics\u001b[0m\u001b[1;33m.\u001b[0m\u001b[0mtsa\u001b[0m\u001b[1;33m.\u001b[0m\u001b[0mplot_acf\u001b[0m\u001b[1;33m(\u001b[0m\u001b[0mdf\u001b[0m\u001b[1;33m[\u001b[0m\u001b[1;34m'Seasonal First Difference'\u001b[0m\u001b[1;33m]\u001b[0m\u001b[1;33m.\u001b[0m\u001b[0miloc\u001b[0m\u001b[1;33m[\u001b[0m\u001b[1;36m7\u001b[0m\u001b[1;33m:\u001b[0m\u001b[1;33m]\u001b[0m\u001b[1;33m,\u001b[0m\u001b[0mlags\u001b[0m\u001b[1;33m=\u001b[0m\u001b[1;36m40\u001b[0m\u001b[1;33m,\u001b[0m\u001b[0max\u001b[0m\u001b[1;33m=\u001b[0m\u001b[0max1\u001b[0m\u001b[1;33m)\u001b[0m\u001b[1;33m\u001b[0m\u001b[1;33m\u001b[0m\u001b[0m\n\u001b[0m\u001b[0;32m      4\u001b[0m \u001b[0max2\u001b[0m \u001b[1;33m=\u001b[0m \u001b[0mfig\u001b[0m\u001b[1;33m.\u001b[0m\u001b[0madd_subplot\u001b[0m\u001b[1;33m(\u001b[0m\u001b[1;36m212\u001b[0m\u001b[1;33m)\u001b[0m\u001b[1;33m\u001b[0m\u001b[1;33m\u001b[0m\u001b[0m\n\u001b[0;32m      5\u001b[0m \u001b[0mfig\u001b[0m \u001b[1;33m=\u001b[0m \u001b[0msm\u001b[0m\u001b[1;33m.\u001b[0m\u001b[0mgraphics\u001b[0m\u001b[1;33m.\u001b[0m\u001b[0mtsa\u001b[0m\u001b[1;33m.\u001b[0m\u001b[0mplot_pacf\u001b[0m\u001b[1;33m(\u001b[0m\u001b[0mdf\u001b[0m\u001b[1;33m[\u001b[0m\u001b[1;34m'Seasonal First Difference'\u001b[0m\u001b[1;33m]\u001b[0m\u001b[1;33m.\u001b[0m\u001b[0miloc\u001b[0m\u001b[1;33m[\u001b[0m\u001b[1;36m7\u001b[0m\u001b[1;33m:\u001b[0m\u001b[1;33m]\u001b[0m\u001b[1;33m,\u001b[0m\u001b[0mlags\u001b[0m\u001b[1;33m=\u001b[0m\u001b[1;36m40\u001b[0m\u001b[1;33m,\u001b[0m\u001b[0max\u001b[0m\u001b[1;33m=\u001b[0m\u001b[0max2\u001b[0m\u001b[1;33m)\u001b[0m\u001b[1;33m\u001b[0m\u001b[1;33m\u001b[0m\u001b[0m\n",
      "\u001b[1;32m~\\anaconda3\\lib\\site-packages\\pandas\\util\\_decorators.py\u001b[0m in \u001b[0;36mwrapper\u001b[1;34m(*args, **kwargs)\u001b[0m\n\u001b[0;32m    197\u001b[0m                 \u001b[1;32melse\u001b[0m\u001b[1;33m:\u001b[0m\u001b[1;33m\u001b[0m\u001b[1;33m\u001b[0m\u001b[0m\n\u001b[0;32m    198\u001b[0m                     \u001b[0mkwargs\u001b[0m\u001b[1;33m[\u001b[0m\u001b[0mnew_arg_name\u001b[0m\u001b[1;33m]\u001b[0m \u001b[1;33m=\u001b[0m \u001b[0mnew_arg_value\u001b[0m\u001b[1;33m\u001b[0m\u001b[1;33m\u001b[0m\u001b[0m\n\u001b[1;32m--> 199\u001b[1;33m             \u001b[1;32mreturn\u001b[0m \u001b[0mfunc\u001b[0m\u001b[1;33m(\u001b[0m\u001b[1;33m*\u001b[0m\u001b[0margs\u001b[0m\u001b[1;33m,\u001b[0m \u001b[1;33m**\u001b[0m\u001b[0mkwargs\u001b[0m\u001b[1;33m)\u001b[0m\u001b[1;33m\u001b[0m\u001b[1;33m\u001b[0m\u001b[0m\n\u001b[0m\u001b[0;32m    200\u001b[0m \u001b[1;33m\u001b[0m\u001b[0m\n\u001b[0;32m    201\u001b[0m         \u001b[1;32mreturn\u001b[0m \u001b[0mcast\u001b[0m\u001b[1;33m(\u001b[0m\u001b[0mF\u001b[0m\u001b[1;33m,\u001b[0m \u001b[0mwrapper\u001b[0m\u001b[1;33m)\u001b[0m\u001b[1;33m\u001b[0m\u001b[1;33m\u001b[0m\u001b[0m\n",
      "\u001b[1;32m~\\anaconda3\\lib\\site-packages\\statsmodels\\graphics\\tsaplots.py\u001b[0m in \u001b[0;36mplot_acf\u001b[1;34m(x, ax, lags, alpha, use_vlines, adjusted, fft, missing, title, zero, vlines_kwargs, **kwargs)\u001b[0m\n\u001b[0;32m    186\u001b[0m         \u001b[0macf_x\u001b[0m\u001b[1;33m,\u001b[0m \u001b[0mconfint\u001b[0m \u001b[1;33m=\u001b[0m \u001b[0macf_x\u001b[0m\u001b[1;33m\u001b[0m\u001b[1;33m\u001b[0m\u001b[0m\n\u001b[0;32m    187\u001b[0m \u001b[1;33m\u001b[0m\u001b[0m\n\u001b[1;32m--> 188\u001b[1;33m     _plot_corr(\n\u001b[0m\u001b[0;32m    189\u001b[0m         \u001b[0max\u001b[0m\u001b[1;33m,\u001b[0m\u001b[1;33m\u001b[0m\u001b[1;33m\u001b[0m\u001b[0m\n\u001b[0;32m    190\u001b[0m         \u001b[0mtitle\u001b[0m\u001b[1;33m,\u001b[0m\u001b[1;33m\u001b[0m\u001b[1;33m\u001b[0m\u001b[0m\n",
      "\u001b[1;32m~\\anaconda3\\lib\\site-packages\\statsmodels\\graphics\\tsaplots.py\u001b[0m in \u001b[0;36m_plot_corr\u001b[1;34m(ax, title, acf_x, confint, lags, irregular, use_vlines, vlines_kwargs, **kwargs)\u001b[0m\n\u001b[0;32m     45\u001b[0m \u001b[1;33m\u001b[0m\u001b[0m\n\u001b[0;32m     46\u001b[0m     \u001b[1;32mif\u001b[0m \u001b[0muse_vlines\u001b[0m\u001b[1;33m:\u001b[0m\u001b[1;33m\u001b[0m\u001b[1;33m\u001b[0m\u001b[0m\n\u001b[1;32m---> 47\u001b[1;33m         \u001b[0max\u001b[0m\u001b[1;33m.\u001b[0m\u001b[0mvlines\u001b[0m\u001b[1;33m(\u001b[0m\u001b[0mlags\u001b[0m\u001b[1;33m,\u001b[0m \u001b[1;33m[\u001b[0m\u001b[1;36m0\u001b[0m\u001b[1;33m]\u001b[0m\u001b[1;33m,\u001b[0m \u001b[0macf_x\u001b[0m\u001b[1;33m,\u001b[0m \u001b[1;33m**\u001b[0m\u001b[0mvlines_kwargs\u001b[0m\u001b[1;33m)\u001b[0m\u001b[1;33m\u001b[0m\u001b[1;33m\u001b[0m\u001b[0m\n\u001b[0m\u001b[0;32m     48\u001b[0m         \u001b[0max\u001b[0m\u001b[1;33m.\u001b[0m\u001b[0maxhline\u001b[0m\u001b[1;33m(\u001b[0m\u001b[1;33m**\u001b[0m\u001b[0mkwargs\u001b[0m\u001b[1;33m)\u001b[0m\u001b[1;33m\u001b[0m\u001b[1;33m\u001b[0m\u001b[0m\n\u001b[0;32m     49\u001b[0m \u001b[1;33m\u001b[0m\u001b[0m\n",
      "\u001b[1;32m~\\anaconda3\\lib\\site-packages\\matplotlib\\__init__.py\u001b[0m in \u001b[0;36minner\u001b[1;34m(ax, data, *args, **kwargs)\u001b[0m\n\u001b[0;32m   1445\u001b[0m     \u001b[1;32mdef\u001b[0m \u001b[0minner\u001b[0m\u001b[1;33m(\u001b[0m\u001b[0max\u001b[0m\u001b[1;33m,\u001b[0m \u001b[1;33m*\u001b[0m\u001b[0margs\u001b[0m\u001b[1;33m,\u001b[0m \u001b[0mdata\u001b[0m\u001b[1;33m=\u001b[0m\u001b[1;32mNone\u001b[0m\u001b[1;33m,\u001b[0m \u001b[1;33m**\u001b[0m\u001b[0mkwargs\u001b[0m\u001b[1;33m)\u001b[0m\u001b[1;33m:\u001b[0m\u001b[1;33m\u001b[0m\u001b[1;33m\u001b[0m\u001b[0m\n\u001b[0;32m   1446\u001b[0m         \u001b[1;32mif\u001b[0m \u001b[0mdata\u001b[0m \u001b[1;32mis\u001b[0m \u001b[1;32mNone\u001b[0m\u001b[1;33m:\u001b[0m\u001b[1;33m\u001b[0m\u001b[1;33m\u001b[0m\u001b[0m\n\u001b[1;32m-> 1447\u001b[1;33m             \u001b[1;32mreturn\u001b[0m \u001b[0mfunc\u001b[0m\u001b[1;33m(\u001b[0m\u001b[0max\u001b[0m\u001b[1;33m,\u001b[0m \u001b[1;33m*\u001b[0m\u001b[0mmap\u001b[0m\u001b[1;33m(\u001b[0m\u001b[0msanitize_sequence\u001b[0m\u001b[1;33m,\u001b[0m \u001b[0margs\u001b[0m\u001b[1;33m)\u001b[0m\u001b[1;33m,\u001b[0m \u001b[1;33m**\u001b[0m\u001b[0mkwargs\u001b[0m\u001b[1;33m)\u001b[0m\u001b[1;33m\u001b[0m\u001b[1;33m\u001b[0m\u001b[0m\n\u001b[0m\u001b[0;32m   1448\u001b[0m \u001b[1;33m\u001b[0m\u001b[0m\n\u001b[0;32m   1449\u001b[0m         \u001b[0mbound\u001b[0m \u001b[1;33m=\u001b[0m \u001b[0mnew_sig\u001b[0m\u001b[1;33m.\u001b[0m\u001b[0mbind\u001b[0m\u001b[1;33m(\u001b[0m\u001b[0max\u001b[0m\u001b[1;33m,\u001b[0m \u001b[1;33m*\u001b[0m\u001b[0margs\u001b[0m\u001b[1;33m,\u001b[0m \u001b[1;33m**\u001b[0m\u001b[0mkwargs\u001b[0m\u001b[1;33m)\u001b[0m\u001b[1;33m\u001b[0m\u001b[1;33m\u001b[0m\u001b[0m\n",
      "\u001b[1;32m~\\anaconda3\\lib\\site-packages\\matplotlib\\axes\\_axes.py\u001b[0m in \u001b[0;36mvlines\u001b[1;34m(self, x, ymin, ymax, colors, linestyles, label, **kwargs)\u001b[0m\n\u001b[0;32m   1257\u001b[0m         \u001b[0mmasked_verts\u001b[0m\u001b[1;33m[\u001b[0m\u001b[1;33m:\u001b[0m\u001b[1;33m,\u001b[0m \u001b[1;36m0\u001b[0m\u001b[1;33m,\u001b[0m \u001b[1;36m1\u001b[0m\u001b[1;33m]\u001b[0m \u001b[1;33m=\u001b[0m \u001b[0mymin\u001b[0m\u001b[1;33m\u001b[0m\u001b[1;33m\u001b[0m\u001b[0m\n\u001b[0;32m   1258\u001b[0m         \u001b[0mmasked_verts\u001b[0m\u001b[1;33m[\u001b[0m\u001b[1;33m:\u001b[0m\u001b[1;33m,\u001b[0m \u001b[1;36m1\u001b[0m\u001b[1;33m,\u001b[0m \u001b[1;36m0\u001b[0m\u001b[1;33m]\u001b[0m \u001b[1;33m=\u001b[0m \u001b[0mx\u001b[0m\u001b[1;33m\u001b[0m\u001b[1;33m\u001b[0m\u001b[0m\n\u001b[1;32m-> 1259\u001b[1;33m         \u001b[0mmasked_verts\u001b[0m\u001b[1;33m[\u001b[0m\u001b[1;33m:\u001b[0m\u001b[1;33m,\u001b[0m \u001b[1;36m1\u001b[0m\u001b[1;33m,\u001b[0m \u001b[1;36m1\u001b[0m\u001b[1;33m]\u001b[0m \u001b[1;33m=\u001b[0m \u001b[0mymax\u001b[0m\u001b[1;33m\u001b[0m\u001b[1;33m\u001b[0m\u001b[0m\n\u001b[0m\u001b[0;32m   1260\u001b[0m \u001b[1;33m\u001b[0m\u001b[0m\n\u001b[0;32m   1261\u001b[0m         lines = mcoll.LineCollection(masked_verts, colors=colors,\n",
      "\u001b[1;32m~\\anaconda3\\lib\\site-packages\\numpy\\ma\\core.py\u001b[0m in \u001b[0;36m__setitem__\u001b[1;34m(self, indx, value)\u001b[0m\n\u001b[0;32m   3378\u001b[0m         \u001b[1;32mif\u001b[0m \u001b[0m_mask\u001b[0m \u001b[1;32mis\u001b[0m \u001b[0mnomask\u001b[0m\u001b[1;33m:\u001b[0m\u001b[1;33m\u001b[0m\u001b[1;33m\u001b[0m\u001b[0m\n\u001b[0;32m   3379\u001b[0m             \u001b[1;31m# Set the data, then the mask\u001b[0m\u001b[1;33m\u001b[0m\u001b[1;33m\u001b[0m\u001b[1;33m\u001b[0m\u001b[0m\n\u001b[1;32m-> 3380\u001b[1;33m             \u001b[0m_data\u001b[0m\u001b[1;33m[\u001b[0m\u001b[0mindx\u001b[0m\u001b[1;33m]\u001b[0m \u001b[1;33m=\u001b[0m \u001b[0mdval\u001b[0m\u001b[1;33m\u001b[0m\u001b[1;33m\u001b[0m\u001b[0m\n\u001b[0m\u001b[0;32m   3381\u001b[0m             \u001b[1;32mif\u001b[0m \u001b[0mmval\u001b[0m \u001b[1;32mis\u001b[0m \u001b[1;32mnot\u001b[0m \u001b[0mnomask\u001b[0m\u001b[1;33m:\u001b[0m\u001b[1;33m\u001b[0m\u001b[1;33m\u001b[0m\u001b[0m\n\u001b[0;32m   3382\u001b[0m                 \u001b[0m_mask\u001b[0m \u001b[1;33m=\u001b[0m \u001b[0mself\u001b[0m\u001b[1;33m.\u001b[0m\u001b[0m_mask\u001b[0m \u001b[1;33m=\u001b[0m \u001b[0mmake_mask_none\u001b[0m\u001b[1;33m(\u001b[0m\u001b[0mself\u001b[0m\u001b[1;33m.\u001b[0m\u001b[0mshape\u001b[0m\u001b[1;33m,\u001b[0m \u001b[0m_dtype\u001b[0m\u001b[1;33m)\u001b[0m\u001b[1;33m\u001b[0m\u001b[1;33m\u001b[0m\u001b[0m\n",
      "\u001b[1;31mValueError\u001b[0m: could not broadcast input array from shape (23) into shape (41)"
     ]
    },
    {
     "data": {
      "image/png": "[encoded data removed]",
      "text/plain": [
       "<Figure size 864x576 with 1 Axes>"
      ]
     },
     "metadata": {
      "needs_background": "light"
     },
     "output_type": "display_data"
    }
   ],
   "source": [
    "fig = plt.figure(figsize=(12,8))\n",
    "ax1 = fig.add_subplot(211)\n",
    "fig = sm.graphics.tsa.plot_acf(df['Seasonal First Difference'].iloc[7:],lags=40,ax=ax1)\n",
    "ax2 = fig.add_subplot(212)\n",
    "fig = sm.graphics.tsa.plot_pacf(df['Seasonal First Difference'].iloc[7:],lags=40,ax=ax2)"
   ]
  },
  {
   "cell_type": "code",
   "execution_count": null,
   "id": "0f7c8248",
   "metadata": {},
   "outputs": [],
   "source": [
    "# For non-seasonal data\n",
    "#p=1, d=1, q=0 or 1\n",
    "from statsmodels.tsa.arima_model import ARIMA"
   ]
  },
  {
   "cell_type": "code",
   "execution_count": null,
   "id": "07ca1e64",
   "metadata": {},
   "outputs": [],
   "source": [
    "model=ARIMA(df['Sales'],order=(1,1,1))\n",
    "model_fit=model.fit()"
   ]
  },
  {
   "cell_type": "code",
   "execution_count": null,
   "id": "d8e75dfd",
   "metadata": {},
   "outputs": [],
   "source": []
  },
  {
   "cell_type": "code",
   "execution_count": null,
   "id": "48c65eca",
   "metadata": {},
   "outputs": [],
   "source": []
  }
 ],
 "metadata": {
  "kernelspec": {
   "display_name": "Python 3",
   "language": "python",
   "name": "python3"
  },
  "language_info": {
   "codemirror_mode": {
    "name": "ipython",
    "version": 3
   },
   "file_extension": ".py",
   "mimetype": "text/x-python",
   "name": "python",
   "nbconvert_exporter": "python",
   "pygments_lexer": "ipython3",
   "version": "3.8.8"
  }
 },
 "nbformat": 4,
 "nbformat_minor": 5
}
